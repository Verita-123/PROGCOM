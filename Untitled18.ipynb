{
  "nbformat": 4,
  "nbformat_minor": 0,
  "metadata": {
    "colab": {
      "provenance": [],
      "authorship_tag": "ABX9TyN/MjK1E19JV9s4FM8RGknk",
      "include_colab_link": true
    },
    "kernelspec": {
      "name": "python3",
      "display_name": "Python 3"
    },
    "language_info": {
      "name": "python"
    }
  },
  "cells": [
    {
      "cell_type": "markdown",
      "metadata": {
        "id": "view-in-github",
        "colab_type": "text"
      },
      "source": [
        "<a href=\"https://colab.research.google.com/github/Verita-123/PROGCOM/blob/main/Untitled18.ipynb\" target=\"_parent\"><img src=\"https://colab.research.google.com/assets/colab-badge.svg\" alt=\"Open In Colab\"/></a>"
      ]
    },
    {
      "cell_type": "markdown",
      "source": [
        "#Estructuras de selección\n",
        "\n",
        "1. Si - sino: if - else\n",
        "2. Operador terniario\n",
        "3. Estructura switch.\n",
        "\n",
        "      *   if/elif/else\n",
        "      *   match-case"
      ],
      "metadata": {
        "id": "g3pUZfkKD6bL"
      }
    },
    {
      "cell_type": "code",
      "execution_count": null,
      "metadata": {
        "id": "ri3MQnrADxad"
      },
      "outputs": [],
      "source": [
        "#Las dos variables no eran iguales (Respuesta- respuesta)\n",
        "#Las variables se escriben en minúscula\n",
        "# if y else van en minúscula\n",
        "respuesta=input(\"Deseas aprender a programar?\")\n",
        "if respuesta==\"si\"\n",
        "  #Estamos dentro swl ai\n",
        "  print(\"Empieza a hacer ejercicios\")\n",
        "else:\n",
        "  #Estamos dentro del sino\n",
        "  print(\"Reconsidérelo\")"
      ]
    },
    {
      "cell_type": "code",
      "source": [
        "#Ejercicio 3: Definir si un numero es mayor que n y menor o igual que m\n",
        "n=int(input(\"Ingrese un numero\"))\n",
        "m=int(input(\"Ingrese otro numero\"))\n",
        "x=int(input(\"Ingrese otro numero\"))"
      ],
      "metadata": {
        "id": "BYgWoxZOK_tj"
      },
      "execution_count": null,
      "outputs": []
    },
    {
      "cell_type": "code",
      "source": [
        "if x>n and x<=m:\n",
        "  print(f\"El numero {x} es mayor que {n} y menor o igual que {m}\")\n",
        "else:\n",
        "  print(f\"El numero {x} no es mayor que {n} y menor o igual que {m}\")"
      ],
      "metadata": {
        "id": "PM25MD6pI23e"
      },
      "execution_count": null,
      "outputs": []
    },
    {
      "cell_type": "code",
      "source": [
        "#Ejericio 2: Definir si un número es mayor que 5 y menor que 15\n",
        "numero=float(input(\"Escribe un numero\"))\n",
        "if numero > 5 and numero < 15:\n",
        "  print(\"El numero es mayor que 5 y menor que 15\")\n",
        "else:\n",
        "  print(\"El numero no está en el rango entre 5 y 15\")\n"
      ],
      "metadata": {
        "colab": {
          "base_uri": "https://localhost:8080/"
        },
        "id": "NDeRoyIQGk73",
        "outputId": "a8e94d5c-abb2-4f7b-bbcc-359ae5445a0f"
      },
      "execution_count": null,
      "outputs": [
        {
          "output_type": "stream",
          "name": "stdout",
          "text": [
            "Escribe un numero4\n",
            "El numero no está en el rango entre 5 y 15\n"
          ]
        }
      ]
    },
    {
      "cell_type": "code",
      "source": [
        "#Ejercicio 5: Verificar si un numero es par o impar\n",
        "N = int(input(\"Ingrese un número entero N: \"))\n",
        "\n",
        "resultado = 0.0\n",
        "\n",
        "for i in range(1, N + 1):\n",
        "    if i % 2 == 0:\n",
        "        resultado -= 1 / i\n",
        "    else:\n",
        "        resultado += 1 / i\n",
        "\n",
        "print(\"El resultado de la serie es:\", resultado)"
      ],
      "metadata": {
        "id": "JGKToD9BQejF"
      },
      "execution_count": null,
      "outputs": []
    },
    {
      "cell_type": "code",
      "source": [
        "#Ejercicio 1: dividir dos numeros siempre y cuando el denominador no sea 0\n",
        "numerador=int(input(\"Ingrese un numero para numerador: \"))\n",
        "denominador=int(input(\"Ingrese un numero para denominador: \"))\n",
        "if denominador == 0:\n",
        "  print(\"No puedo realizar la operación\")\n",
        "else:\n",
        "  resultado = numerador / denominador\n",
        "print(f\"El resultado de {numerador} dividido en {denominador} es {resultado}\")\n"
      ],
      "metadata": {
        "id": "wDxJnY0wR1ok"
      },
      "execution_count": null,
      "outputs": []
    },
    {
      "cell_type": "code",
      "source": [
        "type(numerador)"
      ],
      "metadata": {
        "id": "UgOAN4PMTsOy",
        "outputId": "b7b180f5-d485-4c3a-951e-a4358e037012",
        "colab": {
          "base_uri": "https://localhost:8080/"
        }
      },
      "execution_count": null,
      "outputs": [
        {
          "output_type": "execute_result",
          "data": {
            "text/plain": [
              "str"
            ]
          },
          "metadata": {},
          "execution_count": 15
        }
      ]
    }
  ]
}