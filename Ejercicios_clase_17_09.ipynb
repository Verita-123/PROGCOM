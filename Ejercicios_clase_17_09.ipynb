{
  "nbformat": 4,
  "nbformat_minor": 0,
  "metadata": {
    "colab": {
      "provenance": [],
      "authorship_tag": "ABX9TyM+eqhc6EO6N2rtZfo3Eykn",
      "include_colab_link": true
    },
    "kernelspec": {
      "name": "python3",
      "display_name": "Python 3"
    },
    "language_info": {
      "name": "python"
    }
  },
  "cells": [
    {
      "cell_type": "markdown",
      "metadata": {
        "id": "view-in-github",
        "colab_type": "text"
      },
      "source": [
        "<a href=\"https://colab.research.google.com/github/Verita-123/PROGCOM/blob/main/Ejercicios_clase_17_09.ipynb\" target=\"_parent\"><img src=\"https://colab.research.google.com/assets/colab-badge.svg\" alt=\"Open In Colab\"/></a>"
      ]
    },
    {
      "cell_type": "code",
      "execution_count": 1,
      "metadata": {
        "colab": {
          "base_uri": "https://localhost:8080/"
        },
        "id": "CjaJ9XLhcIvS",
        "outputId": "fe37b21f-f4b3-4b67-bde4-3648d2a6e5c8"
      },
      "outputs": [
        {
          "output_type": "stream",
          "name": "stdout",
          "text": [
            "Digite su nombre: Camila Vera\n",
            "Digite su código: U00178179\n",
            "\n",
            "UNIVERSIDAD AUTÓNOMA DE BUCARAMANGA\n",
            "Nombre del estudiante: Camila Vera\n",
            "Código: U00178179\n"
          ]
        }
      ],
      "source": [
        "# Ejercicio 1: Solicitar nombre y código del estudiante\n",
        "nombre = input(\"Digite su nombre: \")\n",
        "codigo = input(\"Digite su código: \")\n",
        "\n",
        "# Imprimir la información junto al logo de la institución\n",
        "print(\"\\nUNIVERSIDAD AUTÓNOMA DE BUCARAMANGA\")\n",
        "print(f\"Nombre del estudiante: {nombre}\")\n",
        "print(f\"Código: {codigo}\")"
      ]
    },
    {
      "cell_type": "code",
      "source": [
        "# Ejercicio 2: Calcular el volumen de un cono\n",
        "import math\n",
        "\n",
        "# Solicitar el radio y la altura del cono\n",
        "radio = float(input(\"Digite el radio de la base del cono: \"))\n",
        "altura = float(input(\"Digite la altura del cono: \"))\n",
        "\n",
        "# Calcular el volumen del cono\n",
        "volumen = (1 / 3) * math.pi * radio**2 * altura\n",
        "\n",
        "# Imprimir el resultado\n",
        "print(f\"\\nEl volumen del cono es: {volumen:.2f} unidades cúbicas\")"
      ],
      "metadata": {
        "colab": {
          "base_uri": "https://localhost:8080/"
        },
        "id": "qm8Atxepce61",
        "outputId": "2f7f51aa-cb78-4eda-9d8e-aee02cefaca7"
      },
      "execution_count": 3,
      "outputs": [
        {
          "output_type": "stream",
          "name": "stdout",
          "text": [
            "Digite el radio de la base del cono: 7\n",
            "Digite la altura del cono: 4\n",
            "\n",
            "El volumen del cono es: 205.25 unidades cúbicas\n"
          ]
        }
      ]
    },
    {
      "cell_type": "code",
      "source": [
        "# Ejercicio 3: Calcular el número total de conexiones entre servidores\n",
        "n = int(input(\"Digite el número de servidores: \"))\n",
        "\n",
        "# Calcular el número de conexiones\n",
        "conexiones = (n * (n - 1)) // 2\n",
        "\n",
        "# Imprimir el resultado\n",
        "print(f\"\\nEl número total de conexiones entre los servidores es: {conexiones}\")"
      ],
      "metadata": {
        "colab": {
          "base_uri": "https://localhost:8080/"
        },
        "id": "UwWoba8yciSZ",
        "outputId": "2d8b0a93-d4fc-4b0d-883d-5583b80fe76b"
      },
      "execution_count": 4,
      "outputs": [
        {
          "output_type": "stream",
          "name": "stdout",
          "text": [
            "Digite el número de servidores: 6\n",
            "\n",
            "El número total de conexiones entre los servidores es: 15\n"
          ]
        }
      ]
    },
    {
      "cell_type": "code",
      "source": [
        "# Ejercicio 4: Convertir grados Celsius a Fahrenheit y Kelvin\n",
        "celsius = float(input(\"Digite la temperatura en grados Celsius: \"))\n",
        "\n",
        "# Convertir a Fahrenheit\n",
        "fahrenheit = (9 / 5) * celsius + 32\n",
        "\n",
        "# Convertir a Kelvin\n",
        "kelvin = celsius + 273.15\n",
        "\n",
        "# Imprimir los resultados\n",
        "print(f\"\\nTemperatura en Fahrenheit: {fahrenheit:.2f} °F\")\n",
        "print(f\"Temperatura en Kelvin: {kelvin:.2f} K\")"
      ],
      "metadata": {
        "colab": {
          "base_uri": "https://localhost:8080/"
        },
        "id": "CT9FUhQWduli",
        "outputId": "47b33e90-7c58-4168-9c83-05cf0287d808"
      },
      "execution_count": 5,
      "outputs": [
        {
          "output_type": "stream",
          "name": "stdout",
          "text": [
            "Digite la temperatura en grados Celsius: 4\n",
            "\n",
            "Temperatura en Fahrenheit: 39.20 °F\n",
            "Temperatura en Kelvin: 277.15 K\n"
          ]
        }
      ]
    },
    {
      "cell_type": "code",
      "source": [
        "# Ejercicio 5: Robot que da la bienvenida y proporciona el precio de un artículo\n",
        "\n",
        "# Lista de artículos y sus precios\n",
        "articulos = {\n",
        "    \"manzana\": 500,\n",
        "    \"pan\": 1000,\n",
        "    \"agua\": 1500,\n",
        "    \"chocolate\": 2000\n",
        "}\n",
        "\n",
        "# Dar la bienvenida\n",
        "print(\"¡Bienvenido al supermercado virtual!\")\n",
        "\n",
        "# Mostrar los artículos disponibles\n",
        "print(\"\\nArtículos disponibles:\")\n",
        "for articulo in articulos:\n",
        "    print(articulo)\n",
        "\n",
        "# Solicitar al usuario que elija un artículo\n",
        "eleccion = input(\"\\nSeleccione un artículo: \").lower()\n",
        "\n",
        "# Verificar si el artículo está en la lista\n",
        "if eleccion in articulos:\n",
        "    # Mostrar el precio del artículo seleccionado\n",
        "    print(f\"El precio de {eleccion} es: {articulos[eleccion]} COP\")\n",
        "else:\n",
        "    print(\"Lo siento, ese artículo no está disponible.\")"
      ],
      "metadata": {
        "colab": {
          "base_uri": "https://localhost:8080/"
        },
        "id": "Kg12lVuVd1cZ",
        "outputId": "9a9eb574-f4df-441c-c319-0621590c754e"
      },
      "execution_count": 6,
      "outputs": [
        {
          "output_type": "stream",
          "name": "stdout",
          "text": [
            "¡Bienvenido al supermercado virtual!\n",
            "\n",
            "Artículos disponibles:\n",
            "manzana\n",
            "pan\n",
            "agua\n",
            "chocolate\n",
            "\n",
            "Seleccione un artículo: manzana\n",
            "El precio de manzana es: 500 COP\n"
          ]
        }
      ]
    },
    {
      "cell_type": "code",
      "source": [
        "2# Ejercicio 6: Calcular la resistencia total (en serie o en paralelo)\n",
        "n = int(input(\"Digite el número de resistencias: \"))\n",
        "tipo = input(\"Digite el tipo de conexión (serie/paralelo): \").lower()\n",
        "\n",
        "# Inicializar la resistencia total\n",
        "resistencias = []\n",
        "\n",
        "for i in range(n):\n",
        "    resistencia = float(input(f\"Digite el valor de la resistencia {i+1}: \"))\n",
        "    resistencias.append(resistencia)\n",
        "\n",
        "# Verificar si el tipo de conexión es válido\n",
        "if tipo == \"serie\":\n",
        "    # Suma de resistencias en serie\n",
        "    resistencia_total = sum(resistencias)\n",
        "    print(f\"\\nLa resistencia total en serie es: {resistencia_total:.2f} ohmios\")\n",
        "elif tipo == \"paralelo\":\n",
        "    # Suma de resistencias en paralelo\n",
        "    resistencia_total = 1 / sum(1 / r for r in resistencias)\n",
        "    print(f\"\\nLa resistencia total en paralelo es: {resistencia_total:.2f} ohmios\")\n",
        "else:\n",
        "    # Si el tipo de conexión no es válido\n",
        "    print(\"Error: Tipo de conexión no válido. Debe ser 'serie' o 'paralelo'.\")"
      ],
      "metadata": {
        "colab": {
          "base_uri": "https://localhost:8080/"
        },
        "id": "38MhCGCBd2n4",
        "outputId": "ba60fe43-bce8-4e8c-b7fa-60d8b83bff57"
      },
      "execution_count": 7,
      "outputs": [
        {
          "output_type": "stream",
          "name": "stdout",
          "text": [
            "Digite el número de resistencias: 8\n",
            "Digite el tipo de conexión (serie/paralelo): serie\n",
            "Digite el valor de la resistencia 1: 8\n",
            "Digite el valor de la resistencia 2: 4\n",
            "Digite el valor de la resistencia 3: 6\n",
            "Digite el valor de la resistencia 4: 7\n",
            "Digite el valor de la resistencia 5: 2\n",
            "Digite el valor de la resistencia 6: 4\n",
            "Digite el valor de la resistencia 7: 9\n",
            "Digite el valor de la resistencia 8: 5\n",
            "\n",
            "La resistencia total en serie es: 45.00 ohmios\n"
          ]
        }
      ]
    },
    {
      "cell_type": "code",
      "source": [
        "# Ejercicio 7: Convertir grados Celsius a Fahrenheit y Kelvin solo si la temperatura es positiva\n",
        "celsius = float(input(\"Digite la temperatura en grados Celsius: \"))\n",
        "\n",
        "# Verificar si la temperatura es positiva\n",
        "if celsius >= 0:\n",
        "    # Convertir a Fahrenheit\n",
        "    fahrenheit = (9 / 5) * celsius + 32\n",
        "\n",
        "    # Convertir a Kelvin\n",
        "    kelvin = celsius + 273.15\n",
        "\n",
        "    # Imprimir los resultados\n",
        "    print(f\"\\nTemperatura en Fahrenheit: {fahrenheit:.2f} °F\")\n",
        "    print(f\"Temperatura en Kelvin: {kelvin:.2f} K\")\n",
        "else:\n",
        "    print(\"La temperatura debe ser positiva.\")"
      ],
      "metadata": {
        "colab": {
          "base_uri": "https://localhost:8080/"
        },
        "id": "sVvikVIceYPH",
        "outputId": "05ba104f-47d8-4324-a3f4-82408ba848f2"
      },
      "execution_count": 8,
      "outputs": [
        {
          "output_type": "stream",
          "name": "stdout",
          "text": [
            "Digite la temperatura en grados Celsius: 78\n",
            "\n",
            "Temperatura en Fahrenheit: 172.40 °F\n",
            "Temperatura en Kelvin: 351.15 K\n"
          ]
        }
      ]
    },
    {
      "cell_type": "code",
      "source": [
        "# Ejercicio 8: Convertir tiempo de 24 horas a 12 horas\n",
        "horas = int(input(\"Digite las horas (formato 24 horas): \"))\n",
        "minutos = int(input(\"Digite los minutos: \"))\n",
        "\n",
        "# Validar que las horas estén en el rango correcto\n",
        "if 0 <= horas < 24 and 0 <= minutos < 60:\n",
        "    # Determinar si es AM o PM\n",
        "    if horas == 0:\n",
        "        horas_12 = 12\n",
        "        periodo = \"AM\"\n",
        "    elif horas < 12:\n",
        "        horas_12 = horas\n",
        "        periodo = \"AM\"\n",
        "    elif horas == 12:\n",
        "        horas_12 = 12\n",
        "        periodo = \"PM\"\n",
        "    else:\n",
        "        horas_12 = horas - 12\n",
        "        periodo = \"PM\"\n",
        "\n",
        "    # Imprimir el resultado en formato de 12 horas\n",
        "    print(f\"\\nEl tiempo en formato de 12 horas es: {horas_12}:{minutos:02d} {periodo}\")\n",
        "else:\n",
        "    print(\"La hora o los minutos no son válidos.\")"
      ],
      "metadata": {
        "colab": {
          "base_uri": "https://localhost:8080/"
        },
        "id": "sXGGxCUgecjW",
        "outputId": "e9bdd2a4-a384-4110-9ead-8979d7f83641"
      },
      "execution_count": 9,
      "outputs": [
        {
          "output_type": "stream",
          "name": "stdout",
          "text": [
            "Digite las horas (formato 24 horas): 23\n",
            "Digite los minutos: 18\n",
            "\n",
            "El tiempo en formato de 12 horas es: 11:18 PM\n"
          ]
        }
      ]
    },
    {
      "cell_type": "code",
      "source": [
        "n = int(input(\"Ingrese el número de estudiantes: \"))\n",
        "\n",
        "for i in range(n):\n",
        "  nombre = input(\"Digite su nombre: \")\n",
        "  codigo = input(\"Digite su código: \")\n",
        "\n",
        "  carrera = \"\"\n",
        "  if codigo[1:5] == \"0001\":\n",
        "    carrera = \"Telecomunicaciones\"\n",
        "  elif codigo[1:5] == \"0002\":\n",
        "    carrera = \"Financiera\"\n",
        "  elif codigo[1:5] == \"0003\":\n",
        "    carrera = \"Mecatrónica\"\n",
        "  elif codigo[1:5] == \"0004\":\n",
        "    carrera = \"Ingeniería de Sistemas\"\n",
        "  else:\n",
        "    carrera = \"Carrera no encontrada\"\n",
        "\n",
        "\n",
        "  print(\"UNIVERSIDAD AUTÓNOMA DE BUCARAMANGA\")\n",
        "  print(f\"Nombre del estudiante: {nombre}\")\n",
        "  print(f\"Código: {codigo}\")\n",
        "  print(f\"Carrera: {carrera}\")"
      ],
      "metadata": {
        "colab": {
          "base_uri": "https://localhost:8080/"
        },
        "id": "F74VQMBbhc_U",
        "outputId": "03b62cbe-c650-4999-ccd1-579a781d089f"
      },
      "execution_count": null,
      "outputs": [
        {
          "output_type": "stream",
          "name": "stdout",
          "text": [
            "Ingrese el número de estudiantes: 4\n",
            "Digite su nombre: sOFIA\n",
            "Digite su código: U0001\n",
            "UNIVERSIDAD AUTÓNOMA DE BUCARAMANGA\n",
            "Nombre del estudiante: sOFIA\n",
            "Código: U0001\n",
            "Carrera: Telecomunicaciones\n"
          ]
        }
      ]
    },
    {
      "cell_type": "code",
      "source": [
        "import math\n",
        "\n",
        "# Solicitar al usuario el valor de x en grados\n",
        "x_grados = float(input(\"Ingrese el valor de x en grados: \"))\n",
        "\n",
        "# Convertir grados a radianes\n",
        "x_radianes = math.radians(x_grados)\n",
        "\n",
        "# Mostrar las opciones al usuario\n",
        "print(\"\\nSeleccione la operación trigonométrica:\")\n",
        "print(\"1. Seno\")\n",
        "print(\"2. Coseno\")\n",
        "print(\"3. Tangente\")\n",
        "\n",
        "# Solicitar la opción\n",
        "opcion = int(input(\"Digite la opción (1/2/3): \"))\n",
        "\n",
        "# Ejecutar la operación según la opción seleccionada\n",
        "if opcion == 1:\n",
        "    resultado = math.sin(x_radianes)\n",
        "    print(f\"\\nEl seno de {x_grados}° es: {resultado}\")\n",
        "elif opcion == 2:\n",
        "    resultado = math.cos(x_radianes)\n",
        "    print(f\"\\nEl coseno de {x_grados}° es: {resultado}\")\n",
        "elif opcion == 3:\n",
        "    resultado = math.tan(x_radianes)\n",
        "    print(f\"\\nLa tangente de {x_grados}° es: {resultado}\")\n",
        "else:\n",
        "    print(\"\\nOpción no válida. Por favor, seleccione 1, 2 o 3.\")"
      ],
      "metadata": {
        "colab": {
          "base_uri": "https://localhost:8080/"
        },
        "id": "Q0frzLVPg9Im",
        "outputId": "966aa97a-9b27-4d62-afa1-0fef7926134f"
      },
      "execution_count": 12,
      "outputs": [
        {
          "output_type": "stream",
          "name": "stdout",
          "text": [
            "Ingrese el valor de x en grados: 45\n",
            "\n",
            "Seleccione la operación trigonométrica:\n",
            "1. Seno\n",
            "2. Coseno\n",
            "3. Tangente\n",
            "Digite la opción (1/2/3): 2\n",
            "\n",
            "El coseno de 45.0° es: 0.7071067811865476\n"
          ]
        }
      ]
    }
  ]
}