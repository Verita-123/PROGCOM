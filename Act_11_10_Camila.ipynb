{
  "cells": [
    {
      "cell_type": "markdown",
      "metadata": {
        "id": "view-in-github",
        "colab_type": "text"
      },
      "source": [
        "<a href=\"https://colab.research.google.com/github/Verita-123/PROGCOM/blob/main/Act_11_10_Camila.ipynb\" target=\"_parent\"><img src=\"https://colab.research.google.com/assets/colab-badge.svg\" alt=\"Open In Colab\"/></a>"
      ]
    },
    {
      "cell_type": "code",
      "execution_count": null,
      "metadata": {
        "colab": {
          "background_save": true,
          "base_uri": "https://localhost:8080/"
        },
        "id": "qqa0or0qkZrv",
        "outputId": "6d294047-a382-4158-ba52-728e453257d1"
      },
      "outputs": [
        {
          "name": "stdout",
          "output_type": "stream",
          "text": [
            "Bienvenido al juego de matemáticas.\n",
            "Elige una operación: suma, resta, multiplicación, división.\n",
            "¡Correcto!\n",
            "¡Correcto!\n"
          ]
        }
      ],
      "source": [
        "import random\n",
        "\n",
        "def generar_pregunta(opcion):\n",
        "    num1 = random.randint(1, 10)\n",
        "    num2 = random.randint(1, 10)\n",
        "\n",
        "    if opcion == 'suma':\n",
        "        return f\"{num1} + {num2}\", num1 + num2\n",
        "    elif opcion == 'resta':\n",
        "        return f\"{num1} - {num2}\", num1 - num2\n",
        "    elif opcion == 'multiplicación':\n",
        "        return f\"{num1} * {num2}\", num1 * num2\n",
        "    elif opcion == 'división':\n",
        "        while num2 == 0:  # Evitar división por cero\n",
        "            num2 = random.randint(1, 10)\n",
        "        return f\"{num1} / {num2}\", round(num1 / num2, 2)\n",
        "    else:\n",
        "        print(\"Operación no válida.\")\n",
        "        return None, None\n",
        "\n",
        "def jugar():\n",
        "    print(\"Bienvenido al juego de matemáticas.\")\n",
        "    print(\"Elige una operación: suma, resta, multiplicación, división.\")\n",
        "    operacion = input(\"¿Qué operación quieres? \").lower()\n",
        "\n",
        "    correctas = 0\n",
        "\n",
        "    while correctas < 10:\n",
        "        pregunta, respuesta = generar_pregunta(operacion)\n",
        "\n",
        "        if pregunta is None:  # Si la operación no es válida\n",
        "            return\n",
        "\n",
        "        usuario_respuesta = float(input(f\"¿Cuánto es {pregunta}? \"))\n",
        "\n",
        "        if usuario_respuesta == respuesta:\n",
        "            correctas += 1\n",
        "            print(\"¡Correcto!\")\n",
        "        else:\n",
        "            print(f\"Incorrecto. La respuesta correcta es {respuesta}.\")\n",
        "            correctas = 0  # Reinicia el conteo\n",
        "\n",
        "    print(\"¡Felicidades! Has ganado.\")\n",
        "\n",
        "jugar()\n"
      ]
    },
    {
      "cell_type": "code",
      "execution_count": null,
      "metadata": {
        "id": "BaLgwUzakuqu"
      },
      "outputs": [],
      "source": [
        "import random\n",
        "\n",
        "generar_pregunta = lambda opcion: (\n",
        "    (f\"{num1} + {num2}\", num1 + num2) if opcion == 'suma' else\n",
        "    (f\"{num1} - {num2}\", num1 - num2) if opcion == 'resta' else\n",
        "    (f\"{num1} * {num2}\", num1 * num2) if opcion == 'multiplicación' else\n",
        "    (f\"{num1} / {num2}\", round(num1 / num2, 2)) if opcion == 'división' else\n",
        "    (None, None)\n",
        ")\n",
        "\n",
        "def jugar_lambda():\n",
        "    print(\"Bienvenido al juego de matemáticas.\")\n",
        "    print(\"Elige una operación: suma, resta, multiplicación, división.\")\n",
        "    operacion = input(\"¿Qué operación quieres? \").lower()\n",
        "\n",
        "    correctas = 0\n",
        "\n",
        "    while correctas < 10:\n",
        "        num1, num2 = random.randint(1, 10), random.randint(1, 10)\n",
        "        pregunta, respuesta = generar_pregunta(operacion)\n",
        "\n",
        "        if pregunta is None:  # Si la operación no es válida\n",
        "            print(\"Operación no válida.\")\n",
        "            return\n",
        "\n",
        "        usuario_respuesta = float(input(f\"¿Cuánto es {pregunta}? \"))\n",
        "\n",
        "        if usuario_respuesta == respuesta:\n",
        "            correctas += 1\n",
        "            print(\"¡Correcto!\")\n",
        "        else:\n",
        "            print(f\"Incorrecto. La respuesta correcta es {respuesta}.\")\n",
        "            correctas = 0  # Reinicia el conteo\n",
        "\n",
        "    print(\"¡Felicidades! Has ganado.\")\n",
        "\n",
        "jugar_lambda()"
      ]
    },
    {
      "cell_type": "code",
      "execution_count": null,
      "metadata": {
        "id": "sZHgne9hnMGB"
      },
      "outputs": [],
      "source": []
    }
  ],
  "metadata": {
    "colab": {
      "provenance": [],
      "authorship_tag": "ABX9TyP2wgTTwU3P+RlUMyoHX4pL",
      "include_colab_link": true
    },
    "kernelspec": {
      "display_name": "Python 3",
      "name": "python3"
    },
    "language_info": {
      "name": "python"
    }
  },
  "nbformat": 4,
  "nbformat_minor": 0
}