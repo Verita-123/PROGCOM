{
  "nbformat": 4,
  "nbformat_minor": 0,
  "metadata": {
    "colab": {
      "provenance": []
    },
    "kernelspec": {
      "name": "python3",
      "display_name": "Python 3"
    },
    "language_info": {
      "name": "python"
    }
  },
  "cells": [
    {
      "cell_type": "markdown",
      "source": [
        "#Prueba de evaluación de conocimiento"
      ],
      "metadata": {
        "id": "lCmzapsuFDl2"
      }
    },
    {
      "cell_type": "markdown",
      "source": [
        "##Tipo de datos\n",
        "1. Numérico\n",
        "- Entero: Entero\n",
        "- Decimal: float\n",
        "2. Alfanumérico o cadena de caracteres.\n",
        "(String - str)\n",
        "3. Lógico: Boolean - bool\n",
        "4. Lista: list []\n",
        "5. Diccionario: dic {}\n",
        "Para saber qué tipo de dato estamos manejando se usa la función type()"
      ],
      "metadata": {
        "id": "oSB1z1CvFmeM"
      }
    },
    {
      "cell_type": "code",
      "source": [
        "5+3*4"
      ],
      "metadata": {
        "colab": {
          "base_uri": "https://localhost:8080/"
        },
        "id": "acRrFNjHF9d7",
        "outputId": "e8b6aa97-5fb8-4448-e604-b0c2584d1d8b"
      },
      "execution_count": null,
      "outputs": [
        {
          "output_type": "execute_result",
          "data": {
            "text/plain": [
              "17"
            ]
          },
          "metadata": {},
          "execution_count": 1
        }
      ]
    },
    {
      "cell_type": "code",
      "source": [
        "type(5+3*4)"
      ],
      "metadata": {
        "colab": {
          "base_uri": "https://localhost:8080/"
        },
        "id": "D7pJK45fHCmh",
        "outputId": "ba63a1f0-3de9-4610-b408-ae3a2f77112d"
      },
      "execution_count": null,
      "outputs": [
        {
          "output_type": "execute_result",
          "data": {
            "text/plain": [
              "int"
            ]
          },
          "metadata": {},
          "execution_count": 2
        }
      ]
    },
    {
      "cell_type": "code",
      "source": [
        "print(f\"5+3*4={5+3*4} y da como resultado un valor de tipo {type(5+3*4)}\")"
      ],
      "metadata": {
        "colab": {
          "base_uri": "https://localhost:8080/"
        },
        "id": "YTOiPPAgHHgf",
        "outputId": "44490450-d7bb-421c-caae-90ff3d3ef54b"
      },
      "execution_count": null,
      "outputs": [
        {
          "output_type": "stream",
          "name": "stdout",
          "text": [
            "5+3*4=17 y da como resultado un valor de tipo <class 'int'>\n"
          ]
        }
      ]
    },
    {
      "cell_type": "code",
      "source": [
        "#Cuando se usa + en strings, sucede la concatenación\n",
        "\"5\"+\"3\"*2"
      ],
      "metadata": {
        "colab": {
          "base_uri": "https://localhost:8080/",
          "height": 35
        },
        "id": "7OLcx8AjHobe",
        "outputId": "adb583e1-d96f-473d-c362-27d200486f53"
      },
      "execution_count": null,
      "outputs": [
        {
          "output_type": "execute_result",
          "data": {
            "text/plain": [
              "'533'"
            ],
            "application/vnd.google.colaboratory.intrinsic+json": {
              "type": "string"
            }
          },
          "metadata": {},
          "execution_count": 5
        }
      ]
    },
    {
      "cell_type": "code",
      "source": [
        "#Un igual (=) es asignación. == es comparación\n",
        "2 ** 11 == 1000"
      ],
      "metadata": {
        "colab": {
          "base_uri": "https://localhost:8080/"
        },
        "id": "Sh-yn3zQIbWV",
        "outputId": "c5c1be7e-4614-40c2-e9cd-a1a557609c05"
      },
      "execution_count": null,
      "outputs": [
        {
          "output_type": "execute_result",
          "data": {
            "text/plain": [
              "False"
            ]
          },
          "metadata": {},
          "execution_count": 6
        }
      ]
    },
    {
      "cell_type": "markdown",
      "source": [
        "##Operaciones lógicas\n",
        "1. Disyunción (o): Ua proposición es verdadera, si al menos una de ellas lo es. En python se puede enunciar con la palabra **or** o con **||**.\n",
        "Ejemplo: V OR V da V. V OR F da V. F OR V da V. F OR F a F.\n",
        "2. Conjunción (y): Una preposición es verdadera, si Y SOLO SI, ambas preposiciones son verdaderas. En python, se utiliza la palabra **and** o **&&** para su uso. Ejemplo: F and F da F; F and V da F; V and F da F; V and V da V.\n",
        "3. Negación (no): Niega el valor de verdad de una proposición. Si el valor de verdad es true, se vuelve false. En python se usa la palabra ***not** o ~ para denotarla."
      ],
      "metadata": {
        "id": "k72nGcb8JIh7"
      }
    },
    {
      "cell_type": "code",
      "source": [
        "a=2 ** 11 == 1000 or 2 ** 9 == 100"
      ],
      "metadata": {
        "id": "r_utGlkaLgiF"
      },
      "execution_count": null,
      "outputs": []
    },
    {
      "cell_type": "code",
      "source": [
        "print(f\"El valor de la expresión a=2 ** 11 == 1000 or 2 ** 9 == 100 es {a}\")"
      ],
      "metadata": {
        "colab": {
          "base_uri": "https://localhost:8080/"
        },
        "id": "rrFaBNP_LqIk",
        "outputId": "5765bcf6-a07e-4506-e89c-0519746b6d93"
      },
      "execution_count": null,
      "outputs": [
        {
          "output_type": "stream",
          "name": "stdout",
          "text": [
            "El valor de la expresión a=2 ** 11 == 1000 or 2 ** 9 == 100 es False\n"
          ]
        }
      ]
    },
    {
      "cell_type": "code",
      "source": [
        "#Colocar u tipo de dato antes del dato, se usa para transformar\n",
        "#el dato que está dentro del paréntesis en el dato por fuera del paréntesis\n",
        "int(\"cincuenta\")"
      ],
      "metadata": {
        "colab": {
          "base_uri": "https://localhost:8080/",
          "height": 176
        },
        "id": "flkh4Ms_M6kh",
        "outputId": "e8135ad3-c0f0-4538-f7da-e4e8edbbc3dc"
      },
      "execution_count": null,
      "outputs": [
        {
          "output_type": "error",
          "ename": "ValueError",
          "evalue": "invalid literal for int() with base 10: 'cincuenta'",
          "traceback": [
            "\u001b[0;31m---------------------------------------------------------------------------\u001b[0m",
            "\u001b[0;31mValueError\u001b[0m                                Traceback (most recent call last)",
            "\u001b[0;32m<ipython-input-11-00dc8c453585>\u001b[0m in \u001b[0;36m<cell line: 3>\u001b[0;34m()\u001b[0m\n\u001b[1;32m      1\u001b[0m \u001b[0;31m#Colocar u tipo de dato antes del dato, se usa para transformar\u001b[0m\u001b[0;34m\u001b[0m\u001b[0;34m\u001b[0m\u001b[0m\n\u001b[1;32m      2\u001b[0m \u001b[0;31m#el dato que está dentro del paréntesis en el dato por fuera del paréntesis\u001b[0m\u001b[0;34m\u001b[0m\u001b[0;34m\u001b[0m\u001b[0m\n\u001b[0;32m----> 3\u001b[0;31m \u001b[0mint\u001b[0m\u001b[0;34m(\u001b[0m\u001b[0;34m\"cincuenta\"\u001b[0m\u001b[0;34m)\u001b[0m\u001b[0;34m\u001b[0m\u001b[0;34m\u001b[0m\u001b[0m\n\u001b[0m",
            "\u001b[0;31mValueError\u001b[0m: invalid literal for int() with base 10: 'cincuenta'"
          ]
        }
      ]
    },
    {
      "cell_type": "code",
      "source": [
        "int(\"50\")"
      ],
      "metadata": {
        "colab": {
          "base_uri": "https://localhost:8080/"
        },
        "id": "mg5BIDylNemn",
        "outputId": "03dfe801-f4e8-48a9-c3dc-698c486f873f"
      },
      "execution_count": null,
      "outputs": [
        {
          "output_type": "execute_result",
          "data": {
            "text/plain": [
              "50"
            ]
          },
          "metadata": {},
          "execution_count": 9
        }
      ]
    },
    {
      "cell_type": "code",
      "source": [
        "str(\"50\")"
      ],
      "metadata": {
        "colab": {
          "base_uri": "https://localhost:8080/",
          "height": 35
        },
        "id": "NQNHe9xoNhFP",
        "outputId": "f412c8a9-c859-4479-8e84-b39ba866ab1f"
      },
      "execution_count": null,
      "outputs": [
        {
          "output_type": "execute_result",
          "data": {
            "text/plain": [
              "'50'"
            ],
            "application/vnd.google.colaboratory.intrinsic+json": {
              "type": "string"
            }
          },
          "metadata": {},
          "execution_count": 16
        }
      ]
    },
    {
      "cell_type": "code",
      "source": [
        "#Siempre que haya una división, el resultado dará float/decial\n",
        "b=16/16 + 384/24"
      ],
      "metadata": {
        "id": "LpGDsmc4OWCf"
      },
      "execution_count": null,
      "outputs": []
    },
    {
      "cell_type": "code",
      "source": [
        "print(f\"El valor de la expresion b=16/16 + 382/24 es {b} {type(b)}\")"
      ],
      "metadata": {
        "colab": {
          "base_uri": "https://localhost:8080/"
        },
        "id": "9gRj-yDLO49c",
        "outputId": "d9b93415-8be6-487f-8d49-7937a587a61c"
      },
      "execution_count": null,
      "outputs": [
        {
          "output_type": "stream",
          "name": "stdout",
          "text": [
            "El valor de la expresion b=16/16 + 382/24 es 17.0 <class 'float'>\n"
          ]
        }
      ]
    },
    {
      "cell_type": "code",
      "source": [
        "# % es el módulo de la operación\n",
        "600 + 18%2"
      ],
      "metadata": {
        "colab": {
          "base_uri": "https://localhost:8080/"
        },
        "id": "BGfIwcFPOrnU",
        "outputId": "f489ac0c-3c0c-4177-dc3b-35875722c0f3"
      },
      "execution_count": null,
      "outputs": [
        {
          "output_type": "execute_result",
          "data": {
            "text/plain": [
              "600"
            ]
          },
          "metadata": {},
          "execution_count": 19
        }
      ]
    },
    {
      "cell_type": "code",
      "source": [
        "0 < (4096 % 10) > 6"
      ],
      "metadata": {
        "colab": {
          "base_uri": "https://localhost:8080/"
        },
        "id": "YdxxebJ6QMDw",
        "outputId": "8494b590-b264-4c1f-e8c3-644e51d5b15f"
      },
      "execution_count": null,
      "outputs": [
        {
          "output_type": "execute_result",
          "data": {
            "text/plain": [
              "False"
            ]
          },
          "metadata": {},
          "execution_count": 21
        }
      ]
    },
    {
      "cell_type": "code",
      "source": [
        "b='Max' + 'Min'"
      ],
      "metadata": {
        "id": "_np7W88OQiLw"
      },
      "execution_count": null,
      "outputs": []
    },
    {
      "cell_type": "code",
      "source": [
        "print(f\"El valor de la expresion 'Max' + 'Min' es {b} {type(b)}\")"
      ],
      "metadata": {
        "colab": {
          "base_uri": "https://localhost:8080/"
        },
        "id": "LX6WjDK3Q2MX",
        "outputId": "e7b09720-ce22-4dbb-eea5-8bb4b4499f98"
      },
      "execution_count": null,
      "outputs": [
        {
          "output_type": "stream",
          "name": "stdout",
          "text": [
            "El valor de la expresion 'Max' + 'Min' es MaxMin <class 'str'>\n"
          ]
        }
      ]
    },
    {
      "cell_type": "code",
      "source": [
        "#ABC() es una función no definida\n",
        "#ABC() * DEF()"
      ],
      "metadata": {
        "id": "JofGFW53Sgwj"
      },
      "execution_count": null,
      "outputs": []
    },
    {
      "cell_type": "code",
      "source": [
        "float(-int(\"7\")+ int (90))"
      ],
      "metadata": {
        "colab": {
          "base_uri": "https://localhost:8080/"
        },
        "id": "mlAdZ8ClTJHh",
        "outputId": "e3a4c915-06fa-47d3-be9f-f87025d98127"
      },
      "execution_count": null,
      "outputs": [
        {
          "output_type": "execute_result",
          "data": {
            "text/plain": [
              "83.0"
            ]
          },
          "metadata": {},
          "execution_count": 28
        }
      ]
    },
    {
      "cell_type": "code",
      "source": [
        "+{´+++}"
      ],
      "metadata": {
        "id": "aX4aE9KyTexg"
      },
      "execution_count": null,
      "outputs": []
    }
  ]
}