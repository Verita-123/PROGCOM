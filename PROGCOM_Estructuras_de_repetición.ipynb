{
  "nbformat": 4,
  "nbformat_minor": 0,
  "metadata": {
    "colab": {
      "provenance": [],
      "authorship_tag": "ABX9TyMXQW6qxTwbiULDkvI0tFoT",
      "include_colab_link": true
    },
    "kernelspec": {
      "name": "python3",
      "display_name": "Python 3"
    },
    "language_info": {
      "name": "python"
    }
  },
  "cells": [
    {
      "cell_type": "markdown",
      "metadata": {
        "id": "view-in-github",
        "colab_type": "text"
      },
      "source": [
        "<a href=\"https://colab.research.google.com/github/Verita-123/PROGCOM/blob/main/PROGCOM_Estructuras_de_repetici%C3%B3n.ipynb\" target=\"_parent\"><img src=\"https://colab.research.google.com/assets/colab-badge.svg\" alt=\"Open In Colab\"/></a>"
      ]
    },
    {
      "cell_type": "code",
      "execution_count": null,
      "metadata": {
        "id": "RnKc_1plOaa_"
      },
      "outputs": [],
      "source": [
        ""
      ]
    },
    {
      "cell_type": "markdown",
      "source": [
        "#ESTRUCTURAS DE REPETICIÓN\n",
        "##1. ESTRUCTURA PARA\n",
        "###1.1 For in range (número de veces):\n",
        "###1.2 for in range(número inicial, número final+1, paso)\n",
        "###1.3 for in [lista]:"
      ],
      "metadata": {
        "id": "8hMn_Jc5PTrI"
      }
    },
    {
      "cell_type": "code",
      "source": [
        "for in range (5):\n",
        "  print(\"Colombia campeón\")"
      ],
      "metadata": {
        "colab": {
          "base_uri": "https://localhost:8080/",
          "height": 106
        },
        "id": "7n8pL9G_P4q2",
        "outputId": "ab0a9d81-6089-42db-ec1f-ff83da01496c"
      },
      "execution_count": 2,
      "outputs": [
        {
          "output_type": "error",
          "ename": "SyntaxError",
          "evalue": "invalid syntax (<ipython-input-2-49a524040086>, line 1)",
          "traceback": [
            "\u001b[0;36m  File \u001b[0;32m\"<ipython-input-2-49a524040086>\"\u001b[0;36m, line \u001b[0;32m1\u001b[0m\n\u001b[0;31m    for in range (5):\u001b[0m\n\u001b[0m        ^\u001b[0m\n\u001b[0;31mSyntaxError\u001b[0m\u001b[0;31m:\u001b[0m invalid syntax\n"
          ]
        }
      ]
    },
    {
      "cell_type": "markdown",
      "source": [
        "## for in range(número inicial, número final+1, paso): Cuando se necesita repetir una acción un número de veces entre el número inicial y el número final. El paso me representa la distancia entre la repetición"
      ],
      "metadata": {
        "id": "MO3XrsimQHYW"
      }
    },
    {
      "cell_type": "code",
      "source": [
        "#Impriimir la tabla de multiplicar del n\n",
        "n=int(input(\"Ingrese la tabla de multiplicar: \"))\n",
        "print(f\"Tabla de multipicar del {n}\")\n",
        "for i in range (1,11):\n",
        "  print(f\"{n}x{i}={n*i}\")"
      ],
      "metadata": {
        "colab": {
          "base_uri": "https://localhost:8080/"
        },
        "id": "dDpJTUj3Qe-2",
        "outputId": "68052a23-5a25-471d-f1f9-b3d03d15795e"
      },
      "execution_count": 1,
      "outputs": [
        {
          "output_type": "stream",
          "name": "stdout",
          "text": [
            "Ingrese la tabla de multiplicar: 3\n",
            "Tabla de multipicar del 3\n",
            "3x1=3\n",
            "3x2=6\n",
            "3x3=9\n",
            "3x4=12\n",
            "3x5=15\n",
            "3x6=18\n",
            "3x7=21\n",
            "3x8=24\n",
            "3x9=27\n",
            "3x10=30\n"
          ]
        }
      ]
    },
    {
      "cell_type": "code",
      "source": [
        "for i in range(2,22,2):\n",
        "  print(f\"{int(i/2)}x{2}={int(i/2)*2}\")"
      ],
      "metadata": {
        "colab": {
          "base_uri": "https://localhost:8080/"
        },
        "id": "duZfvudJR52u",
        "outputId": "0368fd5a-4763-4547-8286-d675a8421261"
      },
      "execution_count": 3,
      "outputs": [
        {
          "output_type": "stream",
          "name": "stdout",
          "text": [
            "1x2=2\n",
            "2x2=4\n",
            "3x2=6\n",
            "4x2=8\n",
            "5x2=10\n",
            "6x2=12\n",
            "7x2=14\n",
            "8x2=16\n",
            "9x2=18\n",
            "10x2=20\n"
          ]
        }
      ]
    },
    {
      "cell_type": "code",
      "source": [
        "n = int(input(\"Ingrese un número: \"))\n",
        "for i in range(n,11*n ,n):\n",
        "  print(f\"{int(i/n)} * {n}={int(i/n)*n}\")"
      ],
      "metadata": {
        "colab": {
          "base_uri": "https://localhost:8080/"
        },
        "id": "q5h2LWhPSUQV",
        "outputId": "ba127438-7865-4c12-cf96-f8406f8c8fea"
      },
      "execution_count": 5,
      "outputs": [
        {
          "output_type": "stream",
          "name": "stdout",
          "text": [
            "Ingrese un número: 9\n",
            "1 * 9=9\n",
            "2 * 9=18\n",
            "3 * 9=27\n",
            "4 * 9=36\n",
            "5 * 9=45\n",
            "6 * 9=54\n",
            "7 * 9=63\n",
            "8 * 9=72\n",
            "9 * 9=81\n",
            "10 * 9=90\n"
          ]
        }
      ]
    },
    {
      "cell_type": "code",
      "source": [
        "a=[\"vainilla\",\"chocolate\", \"arequipe\",\"chicle\",\"fresa\"]\n",
        "#QUIERO IMPRIMIR LA DISPONIBILIDAD DE SABORES\n",
        "print(\"tenemos los siguientes sabores:\")\n",
        "b=1\n",
        "for x in a:\n",
        "  print(f\"{b}. {x}\")\n",
        "  b+=1"
      ],
      "metadata": {
        "colab": {
          "base_uri": "https://localhost:8080/"
        },
        "id": "ocl0RuXOUUkM",
        "outputId": "489c3af3-5a7f-4439-cedd-674317f5257a"
      },
      "execution_count": 6,
      "outputs": [
        {
          "output_type": "stream",
          "name": "stdout",
          "text": [
            "tenemos los siguientes sabores:\n",
            "1. vainilla\n",
            "2. chocolate\n",
            "3. arequipe\n",
            "4. chicle\n",
            "5. fresa\n"
          ]
        }
      ]
    },
    {
      "cell_type": "markdown",
      "source": [
        "##2. ESTRUCTURA MIENTRAS\n",
        "\n",
        "1. Se detiene cuando la condición de entrada es FALSA\n",
        "2. Se una cuando **no** sabemos cuantas veces se dsebe repetir una acción\n",
        "3. Debo crear una condición dentro del while , para volver la condición inicial falsa\n",
        "\n",
        "####while(condición):"
      ],
      "metadata": {
        "id": "qkKrEFeSVURK"
      }
    },
    {
      "cell_type": "code",
      "source": [
        "c=1\n",
        "while True:\n",
        "  a=input(\"estoy adentro?\")\n",
        "  c+=1\n",
        "  if c==5: break"
      ],
      "metadata": {
        "id": "f_ZhthElVpjp"
      },
      "execution_count": null,
      "outputs": []
    },
    {
      "cell_type": "code",
      "source": [
        "import random\n",
        "gasolinda=random.radint(10,100)\n",
        "distancia=random.randint(10,20)\n",
        "\n",
        "while gasolina<=45:   #Para activar la AI\n",
        "  print(\"Detecto que necesito gasolina. \\nDeseas ir a la gasolinera más cercana?\")\n",
        "  user=input(\"1. si\\n2. No\\n\")\n",
        "  if user==1: #Para ver si quiere ir, no se equivocó\n",
        "    print(f\"La gasoliera más cercana se encuentra a {distancia}km\")\n",
        "    gasolina=100\n",
        "  elif user==2:\n",
        "    print(\"Comprendo\")\n",
        "    break\n",
        "  else:\n",
        "    print(\"Opción incorrecta\")\n",
        "    user=input(\"1. Si\\n2. No\\n\")\n",
        "    while user!=1 or user!=2:\n",
        "      print(\"Opción incorrecta\")\n",
        "      user=input(\"1. Si\\n2. No\\n\")\n",
        "\n"
      ],
      "metadata": {
        "id": "iF7IFbkFX8A5"
      },
      "execution_count": null,
      "outputs": []
    }
  ]
}